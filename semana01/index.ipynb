{
 "cells": [
  {
   "cell_type": "markdown",
   "metadata": {},
   "source": [
    "# Semana 01\n",
    "\n"
   ]
  },
  {
   "cell_type": "markdown",
   "metadata": {},
   "source": [
    "### Contenido\n",
    "\n",
    "- Qué es la inteligencia artificial.\n",
    "- Diferencia entre un sistema \"inteligente\" y uno \"tradicional\".\n",
    "- Conceptos clave:\n",
    "    - Ciencia de datos\n",
    "    - Inteligencia artificial\n",
    "    - Machine learning\n",
    "    - Deep learning\n",
    "    - Otros medios de inteligencia artificial\n",
    "- Aplicaciones de la inteligencia artificial.\n",
    "- Alcance del curso.\n",
    "- Recursos."
   ]
  },
  {
   "cell_type": "markdown",
   "metadata": {},
   "source": [
    "Recursos necesarios para llevar este curso.\n",
    "\n",
    "- Python: este será el lenguaje principl en el que trabajaremos todas los ejercicios del curso. Si no utilizas Python para otro tipo de desarrollo en tu PC, lo más fácil es instalar [Anaconda](https://www.anaconda.com/products/individual). Si utilizas Python para otro tipo de desarrollo, puedes instalar los paquetes individuales utilizando pip. Para el resto del curso, vamos a asumir que instalaste Anaconda en Windows.\n",
    "\n",
    "Utilizaremos estos paquetes de software escritos en Python para desarrollar las actividades. Si utilizas anaconda, todos vienen incluidos en la instalación.\n",
    "\n",
    "- Numpy: este paquete de Python se utiliza para hacer muchos tipos distintos de cálculos numéricos.\n",
    "- Pandas: este será el paquete estándar a utilizar para manipular sets de datos.\n",
    "- Scikit learn: paquete de ciencia de datos y machine learning fácil de utiliar con muchas aplicaciones."
   ]
  },
  {
   "cell_type": "code",
   "execution_count": 2,
   "metadata": {},
   "outputs": [
    {
     "data": {
      "text/plain": [
       "4"
      ]
     },
     "execution_count": 2,
     "metadata": {},
     "output_type": "execute_result"
    }
   ],
   "source": []
  }
 ],
 "metadata": {
  "kernelspec": {
   "display_name": "Python 3 (ipykernel)",
   "language": "python",
   "name": "python3"
  },
  "language_info": {
   "codemirror_mode": {
    "name": "ipython",
    "version": 3
   },
   "file_extension": ".py",
   "mimetype": "text/x-python",
   "name": "python",
   "nbconvert_exporter": "python",
   "pygments_lexer": "ipython3",
   "version": "3.9.7"
  }
 },
 "nbformat": 4,
 "nbformat_minor": 4
}
